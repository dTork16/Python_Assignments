{
 "cells": [
  {
   "cell_type": "markdown",
   "id": "a81a3cb8",
   "metadata": {},
   "source": [
    "Q1\n",
    "Name the four built-in data structures in python. Give one examples for each"
   ]
  },
  {
   "cell_type": "raw",
   "id": "5bc140e3",
   "metadata": {},
   "source": [
    "list  eg [1,23,45,6]\n",
    "set   eg {'Rice','Yam','Fufu'}\n",
    "dictionary  eg {'a':4,'b':4}\n",
    "tuple  eg ('January','Febrauary','March')"
   ]
  },
  {
   "cell_type": "raw",
   "id": "8e00a453",
   "metadata": {},
   "source": [
    "2.i lists are mutable while tuples are not mutable\n",
    "  ii lists are ordered, tuples are not"
   ]
  },
  {
   "cell_type": "code",
   "execution_count": null,
   "id": "5898257d",
   "metadata": {},
   "outputs": [],
   "source": []
  },
  {
   "cell_type": "raw",
   "id": "2b5aaee1",
   "metadata": {},
   "source": [
    "Q3\n",
    "Make a list containing names of five animals with a variable name animal_list\n",
    "\n",
    "Write a code for the following:\n",
    "\n",
    "Print the first two animals\n",
    "Print the last two animals\n",
    "Add three extra animals to the variable animal_list\n",
    "Remove the first two animals from the variable animal_list\n",
    "How many animals are in the animal_list?\n",
    "Create a variable animal_set which stores the set of animal_list\n",
    "How many elements are in the animal_set?"
   ]
  },
  {
   "cell_type": "code",
   "execution_count": 1,
   "id": "340228f4",
   "metadata": {},
   "outputs": [
    {
     "data": {
      "text/plain": [
       "['Dog', 'cat', 'ant', 'falcon', 'snake']"
      ]
     },
     "execution_count": 1,
     "metadata": {},
     "output_type": "execute_result"
    }
   ],
   "source": [
    "animal_list = ['Dog','cat','ant','falcon','snake']\n",
    "animal_list"
   ]
  },
  {
   "cell_type": "code",
   "execution_count": 2,
   "id": "a49e4aea",
   "metadata": {},
   "outputs": [
    {
     "data": {
      "text/plain": [
       "['Dog', 'cat']"
      ]
     },
     "execution_count": 2,
     "metadata": {},
     "output_type": "execute_result"
    }
   ],
   "source": [
    "#Print the first two animals\n",
    "animal_list[:2]"
   ]
  },
  {
   "cell_type": "code",
   "execution_count": 3,
   "id": "65de7af1",
   "metadata": {},
   "outputs": [
    {
     "data": {
      "text/plain": [
       "['falcon', 'snake']"
      ]
     },
     "execution_count": 3,
     "metadata": {},
     "output_type": "execute_result"
    }
   ],
   "source": [
    "#Print the last two animals\n",
    "animal_list[-2:]"
   ]
  },
  {
   "cell_type": "code",
   "execution_count": 4,
   "id": "321f4ce7",
   "metadata": {},
   "outputs": [],
   "source": [
    "animal_list.extend(['lion','frog','spider'])"
   ]
  },
  {
   "cell_type": "code",
   "execution_count": 5,
   "id": "a3912be5",
   "metadata": {},
   "outputs": [
    {
     "data": {
      "text/plain": [
       "['Dog', 'cat', 'ant', 'falcon', 'snake', 'lion', 'frog', 'spider']"
      ]
     },
     "execution_count": 5,
     "metadata": {},
     "output_type": "execute_result"
    }
   ],
   "source": [
    "animal_list"
   ]
  },
  {
   "cell_type": "code",
   "execution_count": 24,
   "id": "99c3443c",
   "metadata": {},
   "outputs": [
    {
     "data": {
      "text/plain": [
       "['snake', 'lion', 'frog', 'spider']"
      ]
     },
     "execution_count": 24,
     "metadata": {},
     "output_type": "execute_result"
    }
   ],
   "source": [
    "#Remove the first two animals from the variable animal_list\n",
    "del animal_list[:2]\n",
    "animal_list"
   ]
  },
  {
   "cell_type": "code",
   "execution_count": 9,
   "id": "0479061b",
   "metadata": {},
   "outputs": [
    {
     "data": {
      "text/plain": [
       "6"
      ]
     },
     "execution_count": 9,
     "metadata": {},
     "output_type": "execute_result"
    }
   ],
   "source": [
    "#How many animals are in the animal_list?\n",
    "len(animal_list)"
   ]
  },
  {
   "cell_type": "code",
   "execution_count": 2,
   "id": "5e7d1f55",
   "metadata": {},
   "outputs": [
    {
     "data": {
      "text/plain": [
       "{'Dog', 'ant', 'cat', 'falcon', 'snake'}"
      ]
     },
     "execution_count": 2,
     "metadata": {},
     "output_type": "execute_result"
    }
   ],
   "source": [
    "#Create a variable animal_set which stores the set of animal_list\n",
    "animal_set = set(animal_list)\n",
    "animal_set"
   ]
  },
  {
   "cell_type": "code",
   "execution_count": 15,
   "id": "d4588084",
   "metadata": {},
   "outputs": [
    {
     "data": {
      "text/plain": [
       "6"
      ]
     },
     "execution_count": 15,
     "metadata": {},
     "output_type": "execute_result"
    }
   ],
   "source": [
    "#How many elements are in the animal_set?\n",
    "len(animal_set)"
   ]
  },
  {
   "cell_type": "code",
   "execution_count": null,
   "id": "dc49cefc",
   "metadata": {},
   "outputs": [],
   "source": []
  },
  {
   "cell_type": "markdown",
   "id": "8b350757",
   "metadata": {},
   "source": [
    "Q4\n",
    "Given a list:\n",
    "\n",
    "suitcase = [\"sunglasses\", \"hat\", \"passport\", \"laptop\", \"suit\", \"shoes\"]\n",
    "\n",
    "a. Create a list called first containing only the two first items from suitcase.\n",
    "\n",
    "b. Create a list called middle containing only the two middle items from suitcase.\n",
    "\n",
    "c. Create a list called last made up only of the last two items from suitcase."
   ]
  },
  {
   "cell_type": "code",
   "execution_count": 3,
   "id": "0c9d943c",
   "metadata": {},
   "outputs": [
    {
     "data": {
      "text/plain": [
       "['sunglasses', 'hat', 'passport', 'laptop', 'suit', 'shoes']"
      ]
     },
     "execution_count": 3,
     "metadata": {},
     "output_type": "execute_result"
    }
   ],
   "source": [
    "suitcase = [\"sunglasses\", \"hat\", \"passport\", \"laptop\", \"suit\", \"shoes\"]\n",
    "suitcase"
   ]
  },
  {
   "cell_type": "code",
   "execution_count": 4,
   "id": "c05b9034",
   "metadata": {},
   "outputs": [
    {
     "data": {
      "text/plain": [
       "['sunglasses', 'hat']"
      ]
     },
     "execution_count": 4,
     "metadata": {},
     "output_type": "execute_result"
    }
   ],
   "source": [
    "#Create a list called first containing only the two first items from suitcase.\n",
    "first = suitcase[0:2]\n",
    "first"
   ]
  },
  {
   "cell_type": "code",
   "execution_count": 19,
   "id": "ce3e14b0",
   "metadata": {},
   "outputs": [
    {
     "data": {
      "text/plain": [
       "['passport', 'laptop']"
      ]
     },
     "execution_count": 19,
     "metadata": {},
     "output_type": "execute_result"
    }
   ],
   "source": [
    "#Create a list called middle containing only the two middle items from suitcase.\n",
    "middle = suitcase[2:4]\n",
    "middle"
   ]
  },
  {
   "cell_type": "code",
   "execution_count": 20,
   "id": "64ebf8ff",
   "metadata": {},
   "outputs": [
    {
     "data": {
      "text/plain": [
       "['suit', 'shoes']"
      ]
     },
     "execution_count": 20,
     "metadata": {},
     "output_type": "execute_result"
    }
   ],
   "source": [
    "#Create a list called last made up only of the last two items from suitcase\n",
    "last = suitcase[-2:]\n",
    "last"
   ]
  },
  {
   "cell_type": "code",
   "execution_count": null,
   "id": "1763fadf",
   "metadata": {},
   "outputs": [],
   "source": []
  },
  {
   "cell_type": "markdown",
   "id": "ffb7e859",
   "metadata": {},
   "source": [
    "Q5\n",
    "Write a python code to insert 35 into the list below. Make sure it is inserted in the right position to maintain the order of the data.\n",
    "\n",
    "values = [20,25,30,40,45,50,55,60,65,70]"
   ]
  },
  {
   "cell_type": "code",
   "execution_count": 5,
   "id": "a14f3018",
   "metadata": {},
   "outputs": [
    {
     "data": {
      "text/plain": [
       "[20, 25, 30, 40, 45, 50, 55, 60, 65, 70]"
      ]
     },
     "execution_count": 5,
     "metadata": {},
     "output_type": "execute_result"
    }
   ],
   "source": [
    "values = [20,25,30,40,45,50,55,60,65,70]\n",
    "values"
   ]
  },
  {
   "cell_type": "code",
   "execution_count": 22,
   "id": "32969823",
   "metadata": {},
   "outputs": [],
   "source": [
    "values.insert(3,35)"
   ]
  },
  {
   "cell_type": "code",
   "execution_count": 23,
   "id": "46a63bbf",
   "metadata": {},
   "outputs": [
    {
     "data": {
      "text/plain": [
       "[20, 25, 30, 35, 40, 45, 50, 55, 60, 65, 70]"
      ]
     },
     "execution_count": 23,
     "metadata": {},
     "output_type": "execute_result"
    }
   ],
   "source": [
    "values"
   ]
  },
  {
   "cell_type": "code",
   "execution_count": null,
   "id": "1f58d584",
   "metadata": {},
   "outputs": [],
   "source": []
  },
  {
   "cell_type": "markdown",
   "id": "514fcb6b",
   "metadata": {},
   "source": [
    "Q6\n",
    "Given that Python lists and Python tuples are quite similar – when might you prefer to use a tuple over a list?"
   ]
  },
  {
   "cell_type": "markdown",
   "id": "210a9f2c",
   "metadata": {},
   "source": [
    "I prefer a tuple over a list to store things that are related and fixed. Examples days of week, months of the year"
   ]
  },
  {
   "cell_type": "code",
   "execution_count": null,
   "id": "82c8995d",
   "metadata": {},
   "outputs": [],
   "source": []
  },
  {
   "cell_type": "markdown",
   "id": "0b2f212d",
   "metadata": {},
   "source": [
    "Create a dictionary with 5 Ghana regions and their capitals and store it in the variable region_capital\n",
    "\n",
    "Print out the keys of region_capital\n",
    "Print out the values of region_capital"
   ]
  },
  {
   "cell_type": "code",
   "execution_count": 6,
   "id": "b60fde08",
   "metadata": {},
   "outputs": [
    {
     "data": {
      "text/plain": [
       "{'Greater Accra': 'Accra',\n",
       " 'Central': 'Cape Coast',\n",
       " 'Eastern': 'Koforidua',\n",
       " 'Ashanti': 'Kumasi',\n",
       " 'Volta': 'Ho'}"
      ]
     },
     "execution_count": 6,
     "metadata": {},
     "output_type": "execute_result"
    }
   ],
   "source": [
    "region_capital = {'Greater Accra':'Accra', 'Central':'Cape Coast','Eastern': 'Koforidua','Ashanti':'Kumasi','Volta':'Ho'}\n",
    "region_capital"
   ]
  },
  {
   "cell_type": "code",
   "execution_count": 29,
   "id": "972d55ef",
   "metadata": {},
   "outputs": [
    {
     "name": "stdout",
     "output_type": "stream",
     "text": [
      "dict_keys(['Greater Accra', 'Central', 'Eastern', 'Ashanti', 'Volta'])\n"
     ]
    }
   ],
   "source": [
    "#Print out the keys of region_capital\n",
    "print(region_capital.keys())"
   ]
  },
  {
   "cell_type": "code",
   "execution_count": 33,
   "id": "f6bbad77",
   "metadata": {},
   "outputs": [
    {
     "name": "stdout",
     "output_type": "stream",
     "text": [
      "dict_values(['Accra', 'Cape Coast', 'Koforidua', 'Kumasi', 'Ho'])\n"
     ]
    }
   ],
   "source": [
    "#Print out the values of region_capital\n",
    "print(region_capital.values())"
   ]
  },
  {
   "cell_type": "code",
   "execution_count": null,
   "id": "021ef2c6",
   "metadata": {},
   "outputs": [],
   "source": []
  },
  {
   "cell_type": "markdown",
   "id": "e27f1193",
   "metadata": {},
   "source": [
    "Q8¶\n",
    "values = [3,4,5,6,3,4,3,5,2,4,2,5,6,1,6]\n",
    "\n",
    "Using the codes above answer the following questions:\n",
    "\n",
    "What is the total number of elements in values?\n",
    "What is the highest occuring number in the values variable?\n",
    "Convert values into a set and store it into a variable named values_set\n",
    "How many elements are in the variable values_set?"
   ]
  },
  {
   "cell_type": "code",
   "execution_count": 7,
   "id": "ddc5269c",
   "metadata": {},
   "outputs": [
    {
     "data": {
      "text/plain": [
       "[3, 3, 4, 5, 6, 3, 4, 3, 5, 2, 4, 2, 5, 6, 1, 6]"
      ]
     },
     "execution_count": 7,
     "metadata": {},
     "output_type": "execute_result"
    }
   ],
   "source": [
    "values = [3,3,4,5,6,3,4,3,5,2,4,2,5,6,1,6]\n",
    "values"
   ]
  },
  {
   "cell_type": "code",
   "execution_count": 40,
   "id": "a2d70afe",
   "metadata": {},
   "outputs": [
    {
     "data": {
      "text/plain": [
       "16"
      ]
     },
     "execution_count": 40,
     "metadata": {},
     "output_type": "execute_result"
    }
   ],
   "source": [
    "len(values)"
   ]
  },
  {
   "cell_type": "code",
   "execution_count": 84,
   "id": "38a32220",
   "metadata": {},
   "outputs": [
    {
     "data": {
      "text/plain": [
       "3"
      ]
     },
     "execution_count": 84,
     "metadata": {},
     "output_type": "execute_result"
    }
   ],
   "source": [
    "#What is the highest occuring number in the values variable\n",
    "counter = 0   #set a counter variable\n",
    "num = values[0]  #set a number variable to any number in list values\n",
    "      \n",
    "for i in values:  #loop through the values list\n",
    "    current_frequency = values.count(i)  #count the number of occurences for the element and store it in a variable current_frequency\n",
    "    if(current_frequency> counter): # if the current_frequency is greater than the counter\n",
    "        counter = current_frequency  # the current_frequency is set to the counter\n",
    "        num = i                      #get the number of that current_frequency and set it e\n",
    "num"
   ]
  },
  {
   "cell_type": "code",
   "execution_count": 62,
   "id": "4d6769a5",
   "metadata": {},
   "outputs": [
    {
     "data": {
      "text/plain": [
       "{1, 2, 3, 4, 5, 6}"
      ]
     },
     "execution_count": 62,
     "metadata": {},
     "output_type": "execute_result"
    }
   ],
   "source": [
    "#Convert values into a set and store it into a variable named values_set\n",
    "values_set = set(values)\n",
    "values_set"
   ]
  },
  {
   "cell_type": "code",
   "execution_count": 63,
   "id": "44b31c54",
   "metadata": {},
   "outputs": [
    {
     "data": {
      "text/plain": [
       "6"
      ]
     },
     "execution_count": 63,
     "metadata": {},
     "output_type": "execute_result"
    }
   ],
   "source": [
    "#How many elements are in the variable values_set?\n",
    "len(values_set)"
   ]
  },
  {
   "cell_type": "markdown",
   "id": "ff0b9b00",
   "metadata": {},
   "source": [
    "Q9\n",
    "Write a Python script to print a dictionary where the keys are numbers between 1 and 15 (both included) and the values are the square of the keys."
   ]
  },
  {
   "cell_type": "code",
   "execution_count": 49,
   "id": "5de5dd80",
   "metadata": {},
   "outputs": [
    {
     "data": {
      "text/plain": [
       "{1: 1,\n",
       " 2: 4,\n",
       " 3: 9,\n",
       " 4: 16,\n",
       " 5: 25,\n",
       " 6: 36,\n",
       " 7: 49,\n",
       " 8: 64,\n",
       " 9: 81,\n",
       " 10: 100,\n",
       " 11: 121,\n",
       " 12: 144,\n",
       " 13: 169,\n",
       " 14: 196,\n",
       " 15: 225}"
      ]
     },
     "execution_count": 49,
     "metadata": {},
     "output_type": "execute_result"
    }
   ],
   "source": [
    "dictionary=dict()\n",
    "for num in range(1,16):\n",
    "    dictionary[num]= num**2\n",
    "dictionary  "
   ]
  },
  {
   "cell_type": "markdown",
   "id": "47882114",
   "metadata": {},
   "source": [
    "Q10\n",
    "Write a Python program to create a dictionary of keys x, y, and z where each key has as value a list from 11-20, 21-30, and 31-40 respectively. Access the fifth value of each key from the dictionary."
   ]
  },
  {
   "cell_type": "code",
   "execution_count": null,
   "id": "ea30be3d",
   "metadata": {},
   "outputs": [],
   "source": []
  },
  {
   "cell_type": "code",
   "execution_count": 56,
   "id": "a5f74809",
   "metadata": {},
   "outputs": [],
   "source": [
    "d = {'x':[num for num in range(11,21)],'y':[num for num in range(21,31)],'z':[num for num in range(31,41)]}"
   ]
  },
  {
   "cell_type": "code",
   "execution_count": 57,
   "id": "a481700e",
   "metadata": {},
   "outputs": [
    {
     "data": {
      "text/plain": [
       "{'x': [11, 12, 13, 14, 15, 16, 17, 18, 19, 20],\n",
       " 'y': [21, 22, 23, 24, 25, 26, 27, 28, 29, 30],\n",
       " 'z': [31, 32, 33, 34, 35, 36, 37, 38, 39, 40]}"
      ]
     },
     "execution_count": 57,
     "metadata": {},
     "output_type": "execute_result"
    }
   ],
   "source": [
    "d"
   ]
  },
  {
   "cell_type": "code",
   "execution_count": 88,
   "id": "28581c34",
   "metadata": {},
   "outputs": [
    {
     "name": "stdout",
     "output_type": "stream",
     "text": [
      "x : 15\n",
      "y : 25\n",
      "z : 35\n"
     ]
    }
   ],
   "source": [
    "keys = ['x','y','z']\n",
    "for key in keys:\n",
    "    print(f'{key} : {d[key][4]}')"
   ]
  }
 ],
 "metadata": {
  "kernelspec": {
   "display_name": "Python 3 (ipykernel)",
   "language": "python",
   "name": "python3"
  },
  "language_info": {
   "codemirror_mode": {
    "name": "ipython",
    "version": 3
   },
   "file_extension": ".py",
   "mimetype": "text/x-python",
   "name": "python",
   "nbconvert_exporter": "python",
   "pygments_lexer": "ipython3",
   "version": "3.9.13"
  }
 },
 "nbformat": 4,
 "nbformat_minor": 5
}
