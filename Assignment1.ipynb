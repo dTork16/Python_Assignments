{
 "cells": [
  {
   "cell_type": "markdown",
   "id": "6c3b6f5f",
   "metadata": {},
   "source": [
    "Q1\n",
    "List the basic data types in python and give one example each."
   ]
  },
  {
   "cell_type": "raw",
   "id": "0df019db",
   "metadata": {},
   "source": [
    "strings eg. 'I am Derrick'\n",
    "boolean eg. True\n",
    "integer eg. 2\n",
    "float eg. 3.14\n",
    "dictionary eg. {'a':2}\n",
    "tuple eg. (Jan, Feb)\n",
    "list eg. [1,2,3]"
   ]
  },
  {
   "cell_type": "code",
   "execution_count": null,
   "id": "a2116f77",
   "metadata": {},
   "outputs": [],
   "source": []
  },
  {
   "cell_type": "markdown",
   "id": "94f9b8bd",
   "metadata": {},
   "source": [
    "Q2\n",
    "Change the variable x = 4539.85 to :\n",
    "\n",
    "(i) a string and assign it to a new variable y,\n",
    "\n",
    "(ii) an integer and assign it to a new variable z\n",
    "\n",
    "Print out the type of y and z."
   ]
  },
  {
   "cell_type": "code",
   "execution_count": 3,
   "id": "546c18c1",
   "metadata": {},
   "outputs": [
    {
     "data": {
      "text/plain": [
       "'4539.85'"
      ]
     },
     "execution_count": 3,
     "metadata": {},
     "output_type": "execute_result"
    }
   ],
   "source": [
    "x = 4539.85\n",
    "y = str(x)\n",
    "y"
   ]
  },
  {
   "cell_type": "code",
   "execution_count": 52,
   "id": "408cbd5a",
   "metadata": {},
   "outputs": [
    {
     "data": {
      "text/plain": [
       "4539"
      ]
     },
     "execution_count": 52,
     "metadata": {},
     "output_type": "execute_result"
    }
   ],
   "source": [
    "z = int(x)\n",
    "z"
   ]
  },
  {
   "cell_type": "code",
   "execution_count": null,
   "id": "1326ba3e",
   "metadata": {},
   "outputs": [],
   "source": []
  },
  {
   "cell_type": "markdown",
   "id": "32c25e0c",
   "metadata": {},
   "source": [
    "Q3\n",
    "What data type would you use to store\n",
    "\n",
    "a. The price of car?\n",
    "\n",
    "b. The age of a person\n",
    "\n",
    "c. car plate number: plateNumber = \"AV01-AFP\"?\n",
    "\n",
    "d. The price of fuel\n",
    "\n",
    "e. The number of students in the class\n",
    "\n",
    "f. The weight of a person\n",
    "\n",
    "g. Check whether two figures are equal\n",
    "\n",
    "i. The name of a school\n",
    "\n",
    "j. The average result of the overall score of a student\n",
    "\n",
    "k. The total number of vote cast"
   ]
  },
  {
   "cell_type": "raw",
   "id": "3f46f4f4",
   "metadata": {},
   "source": [
    "a. float\n",
    "b. int\n",
    "c. string\n",
    "d. float\n",
    "e. int\n",
    "f. float\n",
    "g. boolean\n",
    "i. string\n",
    "j. float\n",
    "k. int"
   ]
  },
  {
   "cell_type": "raw",
   "id": "cf75a0b3",
   "metadata": {},
   "source": []
  },
  {
   "cell_type": "markdown",
   "id": "c3a02de6",
   "metadata": {},
   "source": [
    "Q4\n",
    "Thomas Partey is arguably the best player in the Black Stars. He is a great addition to the team\n",
    "\n",
    "Split the statement above into two statement_1 and statement_2 such that statement_1 will be 'Thomas Partey is arguably the best player in the Black Stars' and statement_2 will be 'He is a great addition to the team'\n",
    "\n",
    "Statement:\n",
    "\n",
    "What is the length of statment 1?\n",
    "What is the length of statment 2?"
   ]
  },
  {
   "cell_type": "code",
   "execution_count": 13,
   "id": "60108fc6",
   "metadata": {},
   "outputs": [
    {
     "data": {
      "text/plain": [
       "['Thomas Partey is arguably the best player in the Black Stars',\n",
       " 'He is a great addition to the team']"
      ]
     },
     "execution_count": 13,
     "metadata": {},
     "output_type": "execute_result"
    }
   ],
   "source": [
    "statement ='Thomas Partey is arguably the best player in the Black Stars. He is a great addition to the team'.split('. ')\n",
    "statement"
   ]
  },
  {
   "cell_type": "code",
   "execution_count": 14,
   "id": "d82c73ce",
   "metadata": {},
   "outputs": [
    {
     "data": {
      "text/plain": [
       "'Thomas Partey is arguably the best player in the Black Stars'"
      ]
     },
     "execution_count": 14,
     "metadata": {},
     "output_type": "execute_result"
    }
   ],
   "source": [
    "statement1 = statement[0]\n",
    "statement1"
   ]
  },
  {
   "cell_type": "code",
   "execution_count": 15,
   "id": "3b3d4839",
   "metadata": {},
   "outputs": [
    {
     "data": {
      "text/plain": [
       "'He is a great addition to the team'"
      ]
     },
     "execution_count": 15,
     "metadata": {},
     "output_type": "execute_result"
    }
   ],
   "source": [
    "statement2 = statement[1]\n",
    "statement2"
   ]
  },
  {
   "cell_type": "code",
   "execution_count": 18,
   "id": "4230fe97",
   "metadata": {},
   "outputs": [
    {
     "data": {
      "text/plain": [
       "60"
      ]
     },
     "execution_count": 18,
     "metadata": {},
     "output_type": "execute_result"
    }
   ],
   "source": [
    "len(statement1)\n",
    "#length of statement1 is 60"
   ]
  },
  {
   "cell_type": "code",
   "execution_count": 19,
   "id": "03914559",
   "metadata": {},
   "outputs": [
    {
     "data": {
      "text/plain": [
       "34"
      ]
     },
     "execution_count": 19,
     "metadata": {},
     "output_type": "execute_result"
    }
   ],
   "source": [
    "len(statement2)\n",
    "#length of statement2 is 34"
   ]
  },
  {
   "cell_type": "code",
   "execution_count": 20,
   "id": "80bf2476",
   "metadata": {},
   "outputs": [],
   "source": [
    "#Yes, lenlength of statement1 is greater than length of statement2"
   ]
  },
  {
   "cell_type": "code",
   "execution_count": null,
   "id": "80059269",
   "metadata": {},
   "outputs": [],
   "source": []
  },
  {
   "cell_type": "markdown",
   "id": "d6b83317",
   "metadata": {},
   "source": [
    "Q5 What values does python use to represent True and False respectively?"
   ]
  },
  {
   "cell_type": "markdown",
   "id": "97277571",
   "metadata": {},
   "source": [
    "1 and 0"
   ]
  },
  {
   "cell_type": "code",
   "execution_count": null,
   "id": "29044274",
   "metadata": {},
   "outputs": [],
   "source": []
  },
  {
   "cell_type": "markdown",
   "id": "040b1c06",
   "metadata": {},
   "source": [
    "6. Write a code to evaluate if the following statments are True or False.\n",
    "\n",
    "78 is greater than 46 and less than 30 which is an odd number.\n",
    "\n",
    "8-2 is an even number or 8 is a is an odd number.\n",
    "\n",
    "The number of characters in the word 'boostrap' is 7 and that of 'sample' is 6."
   ]
  },
  {
   "cell_type": "code",
   "execution_count": 4,
   "id": "8762f8a7",
   "metadata": {},
   "outputs": [
    {
     "data": {
      "text/plain": [
       "False"
      ]
     },
     "execution_count": 4,
     "metadata": {},
     "output_type": "execute_result"
    }
   ],
   "source": [
    "46<78<30 and 30%2!=0"
   ]
  },
  {
   "cell_type": "code",
   "execution_count": 24,
   "id": "70528b77",
   "metadata": {},
   "outputs": [
    {
     "data": {
      "text/plain": [
       "True"
      ]
     },
     "execution_count": 24,
     "metadata": {},
     "output_type": "execute_result"
    }
   ],
   "source": [
    "((8-2) % 2 == 0) or (8%2!=0)"
   ]
  },
  {
   "cell_type": "code",
   "execution_count": 54,
   "id": "519acba8",
   "metadata": {},
   "outputs": [
    {
     "data": {
      "text/plain": [
       "False"
      ]
     },
     "execution_count": 54,
     "metadata": {},
     "output_type": "execute_result"
    }
   ],
   "source": [
    "(len('boostrap')==7) and (len('sample')==6)"
   ]
  },
  {
   "cell_type": "code",
   "execution_count": null,
   "id": "535c6d4d",
   "metadata": {},
   "outputs": [],
   "source": []
  },
  {
   "cell_type": "markdown",
   "id": "d55692c4",
   "metadata": {},
   "source": [
    "Q7\n",
    "Given the following python code,\n",
    "\n",
    "word='Hello, How are you?'\n",
    "\n",
    "Write Python code to return the following\n",
    "\n",
    "How\n",
    "How are you\n",
    "are\n",
    "?\n",
    "Hello, How are you"
   ]
  },
  {
   "cell_type": "code",
   "execution_count": 27,
   "id": "edcc1326",
   "metadata": {},
   "outputs": [],
   "source": [
    "word='Hello, How are you?'"
   ]
  },
  {
   "cell_type": "code",
   "execution_count": 32,
   "id": "5eb4d808",
   "metadata": {},
   "outputs": [
    {
     "data": {
      "text/plain": [
       "'How'"
      ]
     },
     "execution_count": 32,
     "metadata": {},
     "output_type": "execute_result"
    }
   ],
   "source": [
    "word[7:10]"
   ]
  },
  {
   "cell_type": "code",
   "execution_count": 34,
   "id": "195d09ec",
   "metadata": {},
   "outputs": [
    {
     "data": {
      "text/plain": [
       "'How are you'"
      ]
     },
     "execution_count": 34,
     "metadata": {},
     "output_type": "execute_result"
    }
   ],
   "source": [
    "word[7:-1]"
   ]
  },
  {
   "cell_type": "code",
   "execution_count": 36,
   "id": "db813974",
   "metadata": {},
   "outputs": [
    {
     "data": {
      "text/plain": [
       "'are'"
      ]
     },
     "execution_count": 36,
     "metadata": {},
     "output_type": "execute_result"
    }
   ],
   "source": [
    "word[11:14]"
   ]
  },
  {
   "cell_type": "code",
   "execution_count": 37,
   "id": "37a93f1a",
   "metadata": {},
   "outputs": [
    {
     "data": {
      "text/plain": [
       "'?'"
      ]
     },
     "execution_count": 37,
     "metadata": {},
     "output_type": "execute_result"
    }
   ],
   "source": [
    "word[-1]"
   ]
  },
  {
   "cell_type": "code",
   "execution_count": 38,
   "id": "df52f92a",
   "metadata": {},
   "outputs": [
    {
     "data": {
      "text/plain": [
       "'Hello, How are you'"
      ]
     },
     "execution_count": 38,
     "metadata": {},
     "output_type": "execute_result"
    }
   ],
   "source": [
    "word[:-1]"
   ]
  },
  {
   "cell_type": "code",
   "execution_count": null,
   "id": "be1ca1a6",
   "metadata": {},
   "outputs": [],
   "source": []
  },
  {
   "cell_type": "markdown",
   "id": "35c8bc17",
   "metadata": {},
   "source": [
    "Q8 Given the following python code,\n",
    "\n",
    "sentence = \"I am very excited\"\n",
    "\n",
    "Write Python code to return\n",
    "\n",
    "Convert sentence to upper case\n",
    "Convert sentence to lower case\n",
    "Convert sentence to title case\n",
    "Convert sentence to list of strings"
   ]
  },
  {
   "cell_type": "code",
   "execution_count": 39,
   "id": "95f4936a",
   "metadata": {},
   "outputs": [
    {
     "data": {
      "text/plain": [
       "'i am very excited'"
      ]
     },
     "execution_count": 39,
     "metadata": {},
     "output_type": "execute_result"
    }
   ],
   "source": [
    "sentence = \"I am very excited\"\n",
    "sentence.lower()"
   ]
  },
  {
   "cell_type": "code",
   "execution_count": 40,
   "id": "0d47e57e",
   "metadata": {},
   "outputs": [
    {
     "data": {
      "text/plain": [
       "'I AM VERY EXCITED'"
      ]
     },
     "execution_count": 40,
     "metadata": {},
     "output_type": "execute_result"
    }
   ],
   "source": [
    "sentence.upper()"
   ]
  },
  {
   "cell_type": "code",
   "execution_count": 41,
   "id": "781a61c5",
   "metadata": {},
   "outputs": [
    {
     "data": {
      "text/plain": [
       "'I Am Very Excited'"
      ]
     },
     "execution_count": 41,
     "metadata": {},
     "output_type": "execute_result"
    }
   ],
   "source": [
    "sentence.title()"
   ]
  },
  {
   "cell_type": "code",
   "execution_count": 42,
   "id": "a8808fc5",
   "metadata": {},
   "outputs": [
    {
     "data": {
      "text/plain": [
       "['I', 'am', 'very', 'excited']"
      ]
     },
     "execution_count": 42,
     "metadata": {},
     "output_type": "execute_result"
    }
   ],
   "source": [
    "sentence.split(\" \")"
   ]
  },
  {
   "cell_type": "code",
   "execution_count": null,
   "id": "1f2b8641",
   "metadata": {},
   "outputs": [],
   "source": []
  },
  {
   "cell_type": "markdown",
   "id": "327cf3e9",
   "metadata": {},
   "source": [
    "Q9\n",
    "word = 'OneThirtyEight'\n",
    "\n",
    "Using Python code extract the following from the variable word:\n",
    "\n",
    "One\n",
    "Thirty\n",
    "Eight\n",
    "OneThirty\n",
    "ThirtyEight\n",
    "ONETHIRTYEIGHT"
   ]
  },
  {
   "cell_type": "code",
   "execution_count": 43,
   "id": "cbc289f3",
   "metadata": {},
   "outputs": [
    {
     "data": {
      "text/plain": [
       "'One'"
      ]
     },
     "execution_count": 43,
     "metadata": {},
     "output_type": "execute_result"
    }
   ],
   "source": [
    "word = 'OneThirtyEight'\n",
    "word[:3]"
   ]
  },
  {
   "cell_type": "code",
   "execution_count": 45,
   "id": "fe6fc355",
   "metadata": {},
   "outputs": [
    {
     "data": {
      "text/plain": [
       "'Thirty'"
      ]
     },
     "execution_count": 45,
     "metadata": {},
     "output_type": "execute_result"
    }
   ],
   "source": [
    "word[3:9]"
   ]
  },
  {
   "cell_type": "code",
   "execution_count": 47,
   "id": "cf701953",
   "metadata": {},
   "outputs": [
    {
     "data": {
      "text/plain": [
       "'Eight'"
      ]
     },
     "execution_count": 47,
     "metadata": {},
     "output_type": "execute_result"
    }
   ],
   "source": [
    "word[9:]"
   ]
  },
  {
   "cell_type": "code",
   "execution_count": 48,
   "id": "79e3b18e",
   "metadata": {},
   "outputs": [
    {
     "data": {
      "text/plain": [
       "'OneThirty'"
      ]
     },
     "execution_count": 48,
     "metadata": {},
     "output_type": "execute_result"
    }
   ],
   "source": [
    "word[:9]"
   ]
  },
  {
   "cell_type": "code",
   "execution_count": 49,
   "id": "a9f85985",
   "metadata": {},
   "outputs": [
    {
     "data": {
      "text/plain": [
       "'ThirtyEight'"
      ]
     },
     "execution_count": 49,
     "metadata": {},
     "output_type": "execute_result"
    }
   ],
   "source": [
    "word[3:]"
   ]
  },
  {
   "cell_type": "code",
   "execution_count": 53,
   "id": "cf67ec81",
   "metadata": {},
   "outputs": [
    {
     "data": {
      "text/plain": [
       "'ONETHIRTYEIGHT'"
      ]
     },
     "execution_count": 53,
     "metadata": {},
     "output_type": "execute_result"
    }
   ],
   "source": [
    "word.upper()"
   ]
  },
  {
   "cell_type": "code",
   "execution_count": null,
   "id": "61936c5a",
   "metadata": {},
   "outputs": [],
   "source": []
  },
  {
   "cell_type": "markdown",
   "id": "1a11213e",
   "metadata": {},
   "source": [
    "Q10\n",
    "Turn Ault'Kelly into a string and assign it to a variable called name."
   ]
  },
  {
   "cell_type": "code",
   "execution_count": 55,
   "id": "89950b0c",
   "metadata": {},
   "outputs": [],
   "source": [
    "name = \"Ault'Kelly\""
   ]
  },
  {
   "cell_type": "code",
   "execution_count": 2,
   "id": "e8cd25dd",
   "metadata": {},
   "outputs": [
    {
     "data": {
      "text/plain": [
       "False"
      ]
     },
     "execution_count": 2,
     "metadata": {},
     "output_type": "execute_result"
    }
   ],
   "source": [
    "bool(5>7)"
   ]
  },
  {
   "cell_type": "code",
   "execution_count": null,
   "id": "3d491699",
   "metadata": {},
   "outputs": [],
   "source": []
  }
 ],
 "metadata": {
  "kernelspec": {
   "display_name": "Python 3 (ipykernel)",
   "language": "python",
   "name": "python3"
  },
  "language_info": {
   "codemirror_mode": {
    "name": "ipython",
    "version": 3
   },
   "file_extension": ".py",
   "mimetype": "text/x-python",
   "name": "python",
   "nbconvert_exporter": "python",
   "pygments_lexer": "ipython3",
   "version": "3.9.13"
  }
 },
 "nbformat": 4,
 "nbformat_minor": 5
}
